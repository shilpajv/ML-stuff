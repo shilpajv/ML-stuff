{
 "cells": [
  {
   "cell_type": "markdown",
   "metadata": {},
   "source": [
    "# Zeta Disease Prediction\n",
    "\n",
    "### About:\n",
    "\n",
    "Mars Mission Control needs a good data-driven system for predicting Zeta Disease infection on the International Mars Colony.\n",
    "Use the `_zeta-disease_training-data_` dataset to build a model that can predict who will be infected by Zeta Disease.\n",
    "Apply your model to the `_zeta-disease_prediction-data_` dataset to predict who will be infected by Zeta Disease.\n",
    " {0 : No Zeta Disease ,1 : Zeta Disease }"
   ]
  },
  {
   "cell_type": "code",
   "execution_count": 2,
   "metadata": {},
   "outputs": [],
   "source": [
    "import pandas as pd\n",
    "import numpy as np\n",
    "import os"
   ]
  },
  {
   "cell_type": "code",
   "execution_count": 3,
   "metadata": {},
   "outputs": [],
   "source": [
    "os.getcwd()\n",
    "path= os.getcwd() +'\\\\assgnment'"
   ]
  },
  {
   "cell_type": "code",
   "execution_count": 4,
   "metadata": {},
   "outputs": [],
   "source": [
    "test = pd.read_csv(path +\"\\\\2021-01-21_zeta-disease_prediction-data_dsi-take-home-challenge.csv\")\n",
    "df  =  pd.read_csv(path +\"\\\\2021-01-21_zeta-disease_training-data_dsi-take-home-challenge.csv\")"
   ]
  },
  {
   "cell_type": "markdown",
   "metadata": {},
   "source": [
    "## Exploring Data"
   ]
  },
  {
   "cell_type": "code",
   "execution_count": 15,
   "metadata": {},
   "outputs": [
    {
     "data": {
      "text/html": [
       "<div>\n",
       "<style scoped>\n",
       "    .dataframe tbody tr th:only-of-type {\n",
       "        vertical-align: middle;\n",
       "    }\n",
       "\n",
       "    .dataframe tbody tr th {\n",
       "        vertical-align: top;\n",
       "    }\n",
       "\n",
       "    .dataframe thead th {\n",
       "        text-align: right;\n",
       "    }\n",
       "</style>\n",
       "<table border=\"1\" class=\"dataframe\">\n",
       "  <thead>\n",
       "    <tr style=\"text-align: right;\">\n",
       "      <th></th>\n",
       "      <th>age</th>\n",
       "      <th>weight</th>\n",
       "      <th>bmi</th>\n",
       "      <th>blood_pressure</th>\n",
       "      <th>insulin_test</th>\n",
       "      <th>liver_stress_test</th>\n",
       "      <th>cardio_stress_test</th>\n",
       "      <th>years_smoking</th>\n",
       "      <th>zeta_disease</th>\n",
       "    </tr>\n",
       "  </thead>\n",
       "  <tbody>\n",
       "    <tr>\n",
       "      <th>0</th>\n",
       "      <td>54</td>\n",
       "      <td>189</td>\n",
       "      <td>27.1</td>\n",
       "      <td>80</td>\n",
       "      <td>0</td>\n",
       "      <td>1.5038</td>\n",
       "      <td>0</td>\n",
       "      <td>10</td>\n",
       "      <td>0</td>\n",
       "    </tr>\n",
       "    <tr>\n",
       "      <th>1</th>\n",
       "      <td>23</td>\n",
       "      <td>150</td>\n",
       "      <td>38.5</td>\n",
       "      <td>68</td>\n",
       "      <td>71</td>\n",
       "      <td>0.3868</td>\n",
       "      <td>55</td>\n",
       "      <td>2</td>\n",
       "      <td>0</td>\n",
       "    </tr>\n",
       "    <tr>\n",
       "      <th>2</th>\n",
       "      <td>47</td>\n",
       "      <td>186</td>\n",
       "      <td>29.9</td>\n",
       "      <td>90</td>\n",
       "      <td>0</td>\n",
       "      <td>0.2728</td>\n",
       "      <td>0</td>\n",
       "      <td>7</td>\n",
       "      <td>0</td>\n",
       "    </tr>\n",
       "    <tr>\n",
       "      <th>3</th>\n",
       "      <td>18</td>\n",
       "      <td>150</td>\n",
       "      <td>30.8</td>\n",
       "      <td>70</td>\n",
       "      <td>1033</td>\n",
       "      <td>0.6598</td>\n",
       "      <td>56</td>\n",
       "      <td>0</td>\n",
       "      <td>0</td>\n",
       "    </tr>\n",
       "    <tr>\n",
       "      <th>4</th>\n",
       "      <td>24</td>\n",
       "      <td>160</td>\n",
       "      <td>32.4</td>\n",
       "      <td>74</td>\n",
       "      <td>125</td>\n",
       "      <td>0.7608</td>\n",
       "      <td>59</td>\n",
       "      <td>2</td>\n",
       "      <td>0</td>\n",
       "    </tr>\n",
       "  </tbody>\n",
       "</table>\n",
       "</div>"
      ],
      "text/plain": [
       "   age  weight   bmi  blood_pressure  insulin_test  liver_stress_test  \\\n",
       "0   54     189  27.1              80             0             1.5038   \n",
       "1   23     150  38.5              68            71             0.3868   \n",
       "2   47     186  29.9              90             0             0.2728   \n",
       "3   18     150  30.8              70          1033             0.6598   \n",
       "4   24     160  32.4              74           125             0.7608   \n",
       "\n",
       "   cardio_stress_test  years_smoking  zeta_disease  \n",
       "0                   0             10             0  \n",
       "1                  55              2             0  \n",
       "2                   0              7             0  \n",
       "3                  56              0             0  \n",
       "4                  59              2             0  "
      ]
     },
     "execution_count": 15,
     "metadata": {},
     "output_type": "execute_result"
    }
   ],
   "source": [
    "df.head()"
   ]
  },
  {
   "cell_type": "code",
   "execution_count": 16,
   "metadata": {},
   "outputs": [
    {
     "data": {
      "text/html": [
       "<div>\n",
       "<style scoped>\n",
       "    .dataframe tbody tr th:only-of-type {\n",
       "        vertical-align: middle;\n",
       "    }\n",
       "\n",
       "    .dataframe tbody tr th {\n",
       "        vertical-align: top;\n",
       "    }\n",
       "\n",
       "    .dataframe thead th {\n",
       "        text-align: right;\n",
       "    }\n",
       "</style>\n",
       "<table border=\"1\" class=\"dataframe\">\n",
       "  <thead>\n",
       "    <tr style=\"text-align: right;\">\n",
       "      <th></th>\n",
       "      <th>age</th>\n",
       "      <th>weight</th>\n",
       "      <th>bmi</th>\n",
       "      <th>blood_pressure</th>\n",
       "      <th>insulin_test</th>\n",
       "      <th>liver_stress_test</th>\n",
       "      <th>cardio_stress_test</th>\n",
       "      <th>years_smoking</th>\n",
       "      <th>zeta_disease</th>\n",
       "    </tr>\n",
       "  </thead>\n",
       "  <tbody>\n",
       "    <tr>\n",
       "      <th>count</th>\n",
       "      <td>800.000000</td>\n",
       "      <td>800.000000</td>\n",
       "      <td>800.000000</td>\n",
       "      <td>800.000000</td>\n",
       "      <td>800.000000</td>\n",
       "      <td>800.000000</td>\n",
       "      <td>800.000000</td>\n",
       "      <td>800.000000</td>\n",
       "      <td>800.000000</td>\n",
       "    </tr>\n",
       "    <tr>\n",
       "      <th>mean</th>\n",
       "      <td>30.985000</td>\n",
       "      <td>172.407500</td>\n",
       "      <td>32.201625</td>\n",
       "      <td>69.565000</td>\n",
       "      <td>85.887500</td>\n",
       "      <td>0.544496</td>\n",
       "      <td>43.121250</td>\n",
       "      <td>4.051250</td>\n",
       "      <td>0.348750</td>\n",
       "    </tr>\n",
       "    <tr>\n",
       "      <th>std</th>\n",
       "      <td>13.824025</td>\n",
       "      <td>31.942438</td>\n",
       "      <td>8.549155</td>\n",
       "      <td>19.874784</td>\n",
       "      <td>126.333656</td>\n",
       "      <td>0.348711</td>\n",
       "      <td>30.409949</td>\n",
       "      <td>4.176173</td>\n",
       "      <td>0.476873</td>\n",
       "    </tr>\n",
       "    <tr>\n",
       "      <th>min</th>\n",
       "      <td>18.000000</td>\n",
       "      <td>94.000000</td>\n",
       "      <td>0.000000</td>\n",
       "      <td>0.000000</td>\n",
       "      <td>0.000000</td>\n",
       "      <td>0.140800</td>\n",
       "      <td>0.000000</td>\n",
       "      <td>0.000000</td>\n",
       "      <td>0.000000</td>\n",
       "    </tr>\n",
       "    <tr>\n",
       "      <th>25%</th>\n",
       "      <td>21.000000</td>\n",
       "      <td>149.000000</td>\n",
       "      <td>27.300000</td>\n",
       "      <td>62.000000</td>\n",
       "      <td>0.000000</td>\n",
       "      <td>0.307800</td>\n",
       "      <td>0.000000</td>\n",
       "      <td>1.000000</td>\n",
       "      <td>0.000000</td>\n",
       "    </tr>\n",
       "    <tr>\n",
       "      <th>50%</th>\n",
       "      <td>26.000000</td>\n",
       "      <td>167.000000</td>\n",
       "      <td>32.050000</td>\n",
       "      <td>72.000000</td>\n",
       "      <td>45.000000</td>\n",
       "      <td>0.445300</td>\n",
       "      <td>53.000000</td>\n",
       "      <td>3.000000</td>\n",
       "      <td>0.000000</td>\n",
       "    </tr>\n",
       "    <tr>\n",
       "      <th>75%</th>\n",
       "      <td>38.000000</td>\n",
       "      <td>192.000000</td>\n",
       "      <td>36.525000</td>\n",
       "      <td>80.000000</td>\n",
       "      <td>130.000000</td>\n",
       "      <td>0.699800</td>\n",
       "      <td>62.000000</td>\n",
       "      <td>6.000000</td>\n",
       "      <td>1.000000</td>\n",
       "    </tr>\n",
       "    <tr>\n",
       "      <th>max</th>\n",
       "      <td>109.000000</td>\n",
       "      <td>308.000000</td>\n",
       "      <td>86.100000</td>\n",
       "      <td>157.000000</td>\n",
       "      <td>1077.000000</td>\n",
       "      <td>3.481300</td>\n",
       "      <td>214.000000</td>\n",
       "      <td>40.000000</td>\n",
       "      <td>1.000000</td>\n",
       "    </tr>\n",
       "  </tbody>\n",
       "</table>\n",
       "</div>"
      ],
      "text/plain": [
       "              age      weight         bmi  blood_pressure  insulin_test  \\\n",
       "count  800.000000  800.000000  800.000000      800.000000    800.000000   \n",
       "mean    30.985000  172.407500   32.201625       69.565000     85.887500   \n",
       "std     13.824025   31.942438    8.549155       19.874784    126.333656   \n",
       "min     18.000000   94.000000    0.000000        0.000000      0.000000   \n",
       "25%     21.000000  149.000000   27.300000       62.000000      0.000000   \n",
       "50%     26.000000  167.000000   32.050000       72.000000     45.000000   \n",
       "75%     38.000000  192.000000   36.525000       80.000000    130.000000   \n",
       "max    109.000000  308.000000   86.100000      157.000000   1077.000000   \n",
       "\n",
       "       liver_stress_test  cardio_stress_test  years_smoking  zeta_disease  \n",
       "count         800.000000          800.000000     800.000000    800.000000  \n",
       "mean            0.544496           43.121250       4.051250      0.348750  \n",
       "std             0.348711           30.409949       4.176173      0.476873  \n",
       "min             0.140800            0.000000       0.000000      0.000000  \n",
       "25%             0.307800            0.000000       1.000000      0.000000  \n",
       "50%             0.445300           53.000000       3.000000      0.000000  \n",
       "75%             0.699800           62.000000       6.000000      1.000000  \n",
       "max             3.481300          214.000000      40.000000      1.000000  "
      ]
     },
     "execution_count": 16,
     "metadata": {},
     "output_type": "execute_result"
    }
   ],
   "source": [
    "df.describe()"
   ]
  },
  {
   "cell_type": "code",
   "execution_count": 17,
   "metadata": {},
   "outputs": [
    {
     "data": {
      "text/plain": [
       "age                   0\n",
       "weight                0\n",
       "bmi                   0\n",
       "blood_pressure        0\n",
       "insulin_test          0\n",
       "liver_stress_test     0\n",
       "cardio_stress_test    0\n",
       "years_smoking         0\n",
       "zeta_disease          0\n",
       "dtype: int64"
      ]
     },
     "execution_count": 17,
     "metadata": {},
     "output_type": "execute_result"
    }
   ],
   "source": [
    "df.isna().sum()"
   ]
  },
  {
   "cell_type": "markdown",
   "metadata": {},
   "source": [
    "There are no missing values."
   ]
  },
  {
   "cell_type": "code",
   "execution_count": 18,
   "metadata": {},
   "outputs": [
    {
     "name": "stdout",
     "output_type": "stream",
     "text": [
      "<class 'pandas.core.frame.DataFrame'>\n",
      "RangeIndex: 800 entries, 0 to 799\n",
      "Data columns (total 9 columns):\n",
      "age                   800 non-null int64\n",
      "weight                800 non-null int64\n",
      "bmi                   800 non-null float64\n",
      "blood_pressure        800 non-null int64\n",
      "insulin_test          800 non-null int64\n",
      "liver_stress_test     800 non-null float64\n",
      "cardio_stress_test    800 non-null int64\n",
      "years_smoking         800 non-null int64\n",
      "zeta_disease          800 non-null int64\n",
      "dtypes: float64(2), int64(7)\n",
      "memory usage: 56.4 KB\n"
     ]
    }
   ],
   "source": [
    "df.info()"
   ]
  },
  {
   "cell_type": "markdown",
   "metadata": {},
   "source": [
    "All dependent features are numerical values"
   ]
  },
  {
   "cell_type": "markdown",
   "metadata": {},
   "source": [
    "Exploring the Target Variable"
   ]
  },
  {
   "cell_type": "code",
   "execution_count": 25,
   "metadata": {},
   "outputs": [
    {
     "data": {
      "text/plain": [
       "<matplotlib.axes._subplots.AxesSubplot at 0x2365bc830b8>"
      ]
     },
     "execution_count": 25,
     "metadata": {},
     "output_type": "execute_result"
    },
    {
     "data": {
      "image/png": "[encoded data removed]",
      "text/plain": [
       "<Figure size 432x288 with 1 Axes>"
      ]
     },
     "metadata": {
      "needs_background": "light"
     },
     "output_type": "display_data"
    }
   ],
   "source": [
    "df.zeta_disease.value_counts().plot.bar()"
   ]
  },
  {
   "cell_type": "code",
   "execution_count": 21,
   "metadata": {
    "scrolled": true
   },
   "outputs": [
    {
     "name": "stdout",
     "output_type": "stream",
     "text": [
      "zeta_disease          1.000000\n",
      "weight                0.471155\n",
      "bmi                   0.271856\n",
      "years_smoking         0.195261\n",
      "age                   0.192925\n",
      "liver_stress_test     0.184738\n",
      "insulin_test          0.126504\n",
      "blood_pressure        0.045739\n",
      "cardio_stress_test    0.036090\n",
      "Name: zeta_disease, dtype: float64\n"
     ]
    }
   ],
   "source": [
    "print(df.corr()[\"zeta_disease\"].abs().sort_values(ascending=False))"
   ]
  },
  {
   "cell_type": "markdown",
   "metadata": {},
   "source": [
    " the above correlation value shows that weight is most correlated with target variable but cardio_stress_test is least correlated."
   ]
  },
  {
   "cell_type": "code",
   "execution_count": 78,
   "metadata": {},
   "outputs": [
    {
     "name": "stdout",
     "output_type": "stream",
     "text": [
      "Mean weight of the people facing the risk of zeta 193.27862595419847\n"
     ]
    },
    {
     "data": {
      "image/png": "[encoded data removed]",
      "text/plain": [
       "<Figure size 432x288 with 1 Axes>"
      ]
     },
     "metadata": {},
     "output_type": "display_data"
    }
   ],
   "source": [
    "df[df['zeta_disease']==1]['weight'].hist(bins=70)\n",
    "plt.xlabel('weight')\n",
    "plt.ylabel('Count')\n",
    "print('Mean weight of the people facing the risk of zeta',df[df['zeta_disease']==1]['weight'].mean())"
   ]
  },
  {
   "cell_type": "code",
   "execution_count": 18,
   "metadata": {},
   "outputs": [],
   "source": [
    "import matplotlib.pyplot as plt\n",
    "import seaborn as sns\n",
    "\n",
    "%matplotlib inline"
   ]
  },
  {
   "cell_type": "code",
   "execution_count": 40,
   "metadata": {},
   "outputs": [
    {
     "name": "stderr",
     "output_type": "stream",
     "text": [
      "C:\\Users\\aksha.LAPTOP-KKEAULMJ\\Anaconda3\\lib\\site-packages\\scipy\\stats\\stats.py:1713: FutureWarning: Using a non-tuple sequence for multidimensional indexing is deprecated; use `arr[tuple(seq)]` instead of `arr[seq]`. In the future this will be interpreted as an array index, `arr[np.array(seq)]`, which will result either in an error or a different result.\n",
      "  return np.add.reduce(sorted[indexer] * weights, axis=axis) / sumval\n"
     ]
    },
    {
     "data": {
      "image/png": "[encoded data removed]",
      "text/plain": [
       "<Figure size 864x1080 with 8 Axes>"
      ]
     },
     "metadata": {
      "needs_background": "light"
     },
     "output_type": "display_data"
    }
   ],
   "source": [
    "### checking the distributions\n",
    "fig,axes = plt.subplots(4,2,figsize=(12,15))\n",
    "for idx,col in enumerate(df.columns[:7]):\n",
    "    row,c = idx//2,idx%2\n",
    "    sns.distplot(df[col],ax=axes[row,c])\n",
    "plt.subplots_adjust(hspace=1)"
   ]
  },
  {
   "cell_type": "markdown",
   "metadata": {},
   "source": [
    " insulin test is skewed to right"
   ]
  },
  {
   "cell_type": "markdown",
   "metadata": {},
   "source": [
    "Let us visualise the distribution of numercal features wth the bnary target varable\n"
   ]
  },
  {
   "cell_type": "code",
   "execution_count": 24,
   "metadata": {
    "scrolled": true
   },
   "outputs": [
    {
     "data": {
      "image/png": "[encoded data removed]",
      "text/plain": [
       "<Figure size 864x1080 with 8 Axes>"
      ]
     },
     "metadata": {
      "needs_background": "light"
     },
     "output_type": "display_data"
    }
   ],
   "source": [
    "fig,axes = plt.subplots(4,2,figsize=(12,15))\n",
    "for idx,col in enumerate(df.columns[:7]):\n",
    "    row,c = idx//2,idx%2\n",
    "    sns.boxplot(x='zeta_disease',y=col,data=df,ax=axes[row,c])\n",
    "plt.subplots_adjust(hspace=1)\n",
    "fig.tight_layout()"
   ]
  },
  {
   "cell_type": "markdown",
   "metadata": {},
   "source": [
    "We can observe that people who are over 170 kgs are more prone to disease and also cardio stress test levels are low "
   ]
  },
  {
   "cell_type": "markdown",
   "metadata": {},
   "source": [
    "## box plot for outlier visualization\n"
   ]
  },
  {
   "cell_type": "code",
   "execution_count": 42,
   "metadata": {},
   "outputs": [
    {
     "data": {
      "image/png": "[encoded data removed]",
      "text/plain": [
       "<Figure size 864x1080 with 8 Axes>"
      ]
     },
     "metadata": {
      "needs_background": "light"
     },
     "output_type": "display_data"
    }
   ],
   "source": [
    "fig,axes = plt.subplots(4,2,figsize=(12,15))\n",
    "for idx,col in enumerate(df.columns[:7]):\n",
    "    row,c = idx//2,idx%2\n",
    "    sns.boxplot(df[col],ax=axes[row,c])\n",
    "plt.subplots_adjust(hspace=1)"
   ]
  },
  {
   "cell_type": "markdown",
   "metadata": {},
   "source": [
    "We could observe some outliers across most numerical variables"
   ]
  },
  {
   "cell_type": "code",
   "execution_count": 66,
   "metadata": {},
   "outputs": [
    {
     "data": {
      "text/plain": [
       "(800, 9)"
      ]
     },
     "execution_count": 66,
     "metadata": {},
     "output_type": "execute_result"
    }
   ],
   "source": [
    "df.shape"
   ]
  },
  {
   "cell_type": "markdown",
   "metadata": {},
   "source": [
    "### Feature Engineering"
   ]
  },
  {
   "cell_type": "code",
   "execution_count": 5,
   "metadata": {},
   "outputs": [],
   "source": [
    "## removing unusual values [low ] from bmi and blood pressue\n",
    "y=np.where(df['bmi']<1)\n",
    "z=np.where(df['blood_pressure']<10)\n",
    "df.drop(df.iloc[z].index|(df.iloc[y].index),inplace=True)\n"
   ]
  },
  {
   "cell_type": "code",
   "execution_count": 69,
   "metadata": {},
   "outputs": [
    {
     "data": {
      "text/plain": [
       "(761, 9)"
      ]
     },
     "execution_count": 69,
     "metadata": {},
     "output_type": "execute_result"
    }
   ],
   "source": [
    "df.shape"
   ]
  },
  {
   "cell_type": "code",
   "execution_count": 48,
   "metadata": {},
   "outputs": [
    {
     "data": {
      "text/plain": [
       "109"
      ]
     },
     "execution_count": 48,
     "metadata": {},
     "output_type": "execute_result"
    }
   ],
   "source": [
    "df.age.max()"
   ]
  },
  {
   "cell_type": "markdown",
   "metadata": {},
   "source": [
    "#### Modelling"
   ]
  },
  {
   "cell_type": "code",
   "execution_count": 6,
   "metadata": {},
   "outputs": [],
   "source": [
    "\n",
    "x =df.drop(['zeta_disease'],axis=1)\n",
    "           \n",
    "y =df['zeta_disease']"
   ]
  },
  {
   "cell_type": "code",
   "execution_count": 7,
   "metadata": {},
   "outputs": [],
   "source": [
    "\n",
    "#Splitting train test data 80 20 ratio\n",
    "from sklearn.model_selection import train_test_split\n",
    "\n",
    "X_train,X_test,y_train,y_test = train_test_split(x,y,test_size=0.2,stratify =y,random_state =42)"
   ]
  },
  {
   "cell_type": "code",
   "execution_count": 26,
   "metadata": {},
   "outputs": [],
   "source": [
    "from sklearn.metrics import f1_score,accuracy_score\n",
    "from sklearn.ensemble import RandomForestClassifier\n",
    "from sklearn.model_selection import GridSearchCV,RandomizedSearchCV\n",
    "from sklearn.ensemble import RandomForestClassifier\n",
    "from sklearn.tree import DecisionTreeClassifier\n",
    "from sklearn.linear_model import LogisticRegression"
   ]
  },
  {
   "cell_type": "code",
   "execution_count": 27,
   "metadata": {},
   "outputs": [
    {
     "name": "stdout",
     "output_type": "stream",
     "text": [
      "Test F1 Score using Decision Tree  0.6274509803921567\n",
      "Test Accuracy using Decision Tree  0.7516339869281046\n"
     ]
    }
   ],
   "source": [
    "\n",
    "dectree = DecisionTreeClassifier(criterion = 'entropy', random_state = 42)\n",
    "dectree.fit(X_train, y_train)\n",
    "y_pred = dectree.predict(X_test)\n",
    "print(\"Test F1 Score using Decision Tree \", f1_score(y_test,y_pred))\n",
    "print(\"Test Accuracy using Decision Tree \", accuracy_score(y_test,y_pred))\n"
   ]
  },
  {
   "cell_type": "code",
   "execution_count": 30,
   "metadata": {},
   "outputs": [],
   "source": [
    "from sklearn.model_selection import GridSearchCV\n",
    "params={'class_weight':['balanced',None],\n",
    "'penalty':['l1','l2'],\n",
    "'C':np.linspace(0.0001,1000,10)}\n",
    "# we can certainly try much higher ranges\n",
    "model=LogisticRegression(fit_intercept=True)"
   ]
  },
  {
   "cell_type": "code",
   "execution_count": 32,
   "metadata": {},
   "outputs": [
    {
     "name": "stderr",
     "output_type": "stream",
     "text": [
      "C:\\Users\\aksha.LAPTOP-KKEAULMJ\\Anaconda3\\lib\\site-packages\\sklearn\\model_selection\\_search.py:813: DeprecationWarning: The default of the `iid` parameter will change from True to False in version 0.22 and will be removed in 0.24. This will change numeric results when test-set sizes are unequal.\n",
      "  DeprecationWarning)\n",
      "C:\\Users\\aksha.LAPTOP-KKEAULMJ\\Anaconda3\\lib\\site-packages\\sklearn\\linear_model\\logistic.py:432: FutureWarning: Default solver will be changed to 'lbfgs' in 0.22. Specify a solver to silence this warning.\n",
      "  FutureWarning)\n"
     ]
    },
    {
     "data": {
      "text/plain": [
       "GridSearchCV(cv=10, error_score='raise-deprecating',\n",
       "             estimator=LogisticRegression(C=1.0, class_weight=None, dual=False,\n",
       "                                          fit_intercept=True,\n",
       "                                          intercept_scaling=1, l1_ratio=None,\n",
       "                                          max_iter=100, multi_class='warn',\n",
       "                                          n_jobs=None, penalty='l2',\n",
       "                                          random_state=None, solver='warn',\n",
       "                                          tol=0.0001, verbose=0,\n",
       "                                          warm_start=False),\n",
       "             iid='warn', n_jobs=-1,\n",
       "             param_grid={'C': array([1.000000e-04, 1.111112e+02, 2.222223e+02, 3.333334e+02,\n",
       "       4.444445e+02, 5.555556e+02, 6.666667e+02, 7.777778e+02,\n",
       "       8.888889e+02, 1.000000e+03]),\n",
       "                         'class_weight': ['balanced', None],\n",
       "                         'penalty': ['l1', 'l2']},\n",
       "             pre_dispatch='2*n_jobs', refit=True, return_train_score=False,\n",
       "             scoring='f1_macro', verbose=0)"
      ]
     },
     "execution_count": 32,
     "metadata": {},
     "output_type": "execute_result"
    }
   ],
   "source": [
    "from sklearn.model_selection import GridSearchCV\n",
    "grid_search=GridSearchCV(model,param_grid=params,cv=10,scoring=\"f1_macro\",n_jobs=-1)\n",
    "grid_search.fit(X_train,y_train)"
   ]
  },
  {
   "cell_type": "code",
   "execution_count": 33,
   "metadata": {},
   "outputs": [
    {
     "name": "stdout",
     "output_type": "stream",
     "text": [
      "Test F1 Score using Logistic Regression   0.6923076923076923\n",
      "Test Accuracy using Logistic Regression   0.7908496732026143\n"
     ]
    }
   ],
   "source": [
    "lr=grid_search.best_estimator_\n",
    "y_pred=lr.predict(X_test)\n",
    "print(\"Test F1 Score using Logistic Regression  \", f1_score(y_test,y_pred))\n",
    "print(\"Test Accuracy using Logistic Regression  \", accuracy_score(y_test,y_pred))"
   ]
  },
  {
   "cell_type": "code",
   "execution_count": 12,
   "metadata": {},
   "outputs": [
    {
     "name": "stdout",
     "output_type": "stream",
     "text": [
      "Fitting 3 folds for each of 54 candidates, totalling 162 fits\n"
     ]
    },
    {
     "name": "stderr",
     "output_type": "stream",
     "text": [
      "[Parallel(n_jobs=-1)]: Using backend LokyBackend with 4 concurrent workers.\n",
      "[Parallel(n_jobs=-1)]: Done  33 tasks      | elapsed:    3.9s\n",
      "[Parallel(n_jobs=-1)]: Done 154 tasks      | elapsed:   18.6s\n",
      "[Parallel(n_jobs=-1)]: Done 162 out of 162 | elapsed:   19.4s finished\n"
     ]
    },
    {
     "data": {
      "text/plain": [
       "GridSearchCV(cv=3, error_score='raise-deprecating',\n",
       "             estimator=RandomForestClassifier(bootstrap=True, class_weight=None,\n",
       "                                              criterion='gini', max_depth=None,\n",
       "                                              max_features='auto',\n",
       "                                              max_leaf_nodes=None,\n",
       "                                              min_impurity_decrease=0.0,\n",
       "                                              min_impurity_split=None,\n",
       "                                              min_samples_leaf=1,\n",
       "                                              min_samples_split=2,\n",
       "                                              min_weight_fraction_leaf=0.0,\n",
       "                                              n_estimators='warn', n_jobs=None,\n",
       "                                              oob_score=False, random_state=42,\n",
       "                                              verbose=0, warm_start=False),\n",
       "             iid='warn', n_jobs=-1,\n",
       "             param_grid={'bootstrap': [True], 'max_depth': [10, 20, 5],\n",
       "                         'min_samples_leaf': [3, 4, 2],\n",
       "                         'min_samples_split': [4, 6, 2],\n",
       "                         'n_estimators': [100, 200]},\n",
       "             pre_dispatch='2*n_jobs', refit=True, return_train_score=False,\n",
       "             scoring=None, verbose=2)"
      ]
     },
     "execution_count": 12,
     "metadata": {},
     "output_type": "execute_result"
    }
   ],
   "source": [
    "\n",
    "rfc = RandomForestClassifier(random_state=42)\n",
    "\n",
    "parameters={\n",
    "'bootstrap': [True],\n",
    "'max_depth': [10, 20,5],\n",
    "'min_samples_leaf': [3, 4,2],\n",
    "'min_samples_split': [4, 6,2],\n",
    "'n_estimators': [100, 200],\n",
    "}\n",
    "grid_search_r= GridSearchCV(rfc, parameters, cv=3,n_jobs=-1,verbose=2)\n",
    "grid_search_r.fit(X_train,y_train)\n"
   ]
  },
  {
   "cell_type": "code",
   "execution_count": 34,
   "metadata": {},
   "outputs": [
    {
     "name": "stdout",
     "output_type": "stream",
     "text": [
      "Test F1 Score using Random Forest 0.6222222222222221\n",
      "Test Accuracy using Random Forest  0.7777777777777778\n"
     ]
    }
   ],
   "source": [
    "\n",
    "rfc =grid_search_r.best_estimator_\n",
    "y_pred=rfc.predict(X_test)\n",
    "print(\"Test F1 Score using Random Forest\", f1_score(y_test,y_pred))\n",
    "print(\"Test Accuracy using Random Forest \", accuracy_score(y_test,y_pred))"
   ]
  },
  {
   "cell_type": "code",
   "execution_count": 95,
   "metadata": {},
   "outputs": [
    {
     "data": {
      "text/html": [
       "<div>\n",
       "<style scoped>\n",
       "    .dataframe tbody tr th:only-of-type {\n",
       "        vertical-align: middle;\n",
       "    }\n",
       "\n",
       "    .dataframe tbody tr th {\n",
       "        vertical-align: top;\n",
       "    }\n",
       "\n",
       "    .dataframe thead th {\n",
       "        text-align: right;\n",
       "    }\n",
       "</style>\n",
       "<table border=\"1\" class=\"dataframe\">\n",
       "  <thead>\n",
       "    <tr style=\"text-align: right;\">\n",
       "      <th></th>\n",
       "      <th>age</th>\n",
       "      <th>weight</th>\n",
       "      <th>bmi</th>\n",
       "      <th>blood_pressure</th>\n",
       "      <th>insulin_test</th>\n",
       "      <th>liver_stress_test</th>\n",
       "      <th>cardio_stress_test</th>\n",
       "      <th>years_smoking</th>\n",
       "      <th>zeta_disease</th>\n",
       "    </tr>\n",
       "  </thead>\n",
       "  <tbody>\n",
       "    <tr>\n",
       "      <th>count</th>\n",
       "      <td>20.000000</td>\n",
       "      <td>20.000000</td>\n",
       "      <td>20.000000</td>\n",
       "      <td>20.000000</td>\n",
       "      <td>20.000000</td>\n",
       "      <td>20.000000</td>\n",
       "      <td>20.000000</td>\n",
       "      <td>20.000000</td>\n",
       "      <td>0.0</td>\n",
       "    </tr>\n",
       "    <tr>\n",
       "      <th>mean</th>\n",
       "      <td>34.750000</td>\n",
       "      <td>178.800000</td>\n",
       "      <td>34.480000</td>\n",
       "      <td>78.500000</td>\n",
       "      <td>145.050000</td>\n",
       "      <td>1.569600</td>\n",
       "      <td>61.950000</td>\n",
       "      <td>6.050000</td>\n",
       "      <td>NaN</td>\n",
       "    </tr>\n",
       "    <tr>\n",
       "      <th>std</th>\n",
       "      <td>11.511436</td>\n",
       "      <td>27.935264</td>\n",
       "      <td>6.628773</td>\n",
       "      <td>14.005638</td>\n",
       "      <td>75.964309</td>\n",
       "      <td>0.230356</td>\n",
       "      <td>9.703363</td>\n",
       "      <td>3.471311</td>\n",
       "      <td>NaN</td>\n",
       "    </tr>\n",
       "    <tr>\n",
       "      <th>min</th>\n",
       "      <td>19.000000</td>\n",
       "      <td>120.000000</td>\n",
       "      <td>25.800000</td>\n",
       "      <td>59.000000</td>\n",
       "      <td>50.000000</td>\n",
       "      <td>1.249800</td>\n",
       "      <td>43.000000</td>\n",
       "      <td>2.000000</td>\n",
       "      <td>NaN</td>\n",
       "    </tr>\n",
       "    <tr>\n",
       "      <th>25%</th>\n",
       "      <td>26.250000</td>\n",
       "      <td>153.250000</td>\n",
       "      <td>30.250000</td>\n",
       "      <td>69.750000</td>\n",
       "      <td>76.250000</td>\n",
       "      <td>1.411800</td>\n",
       "      <td>55.750000</td>\n",
       "      <td>3.000000</td>\n",
       "      <td>NaN</td>\n",
       "    </tr>\n",
       "    <tr>\n",
       "      <th>50%</th>\n",
       "      <td>34.500000</td>\n",
       "      <td>188.500000</td>\n",
       "      <td>33.150000</td>\n",
       "      <td>72.500000</td>\n",
       "      <td>137.000000</td>\n",
       "      <td>1.483300</td>\n",
       "      <td>60.000000</td>\n",
       "      <td>5.500000</td>\n",
       "      <td>NaN</td>\n",
       "    </tr>\n",
       "    <tr>\n",
       "      <th>75%</th>\n",
       "      <td>44.250000</td>\n",
       "      <td>197.750000</td>\n",
       "      <td>37.600000</td>\n",
       "      <td>89.250000</td>\n",
       "      <td>167.750000</td>\n",
       "      <td>1.737800</td>\n",
       "      <td>68.000000</td>\n",
       "      <td>7.500000</td>\n",
       "      <td>NaN</td>\n",
       "    </tr>\n",
       "    <tr>\n",
       "      <th>max</th>\n",
       "      <td>60.000000</td>\n",
       "      <td>216.000000</td>\n",
       "      <td>50.700000</td>\n",
       "      <td>108.000000</td>\n",
       "      <td>362.000000</td>\n",
       "      <td>2.050800</td>\n",
       "      <td>83.000000</td>\n",
       "      <td>13.000000</td>\n",
       "      <td>NaN</td>\n",
       "    </tr>\n",
       "  </tbody>\n",
       "</table>\n",
       "</div>"
      ],
      "text/plain": [
       "             age      weight        bmi  blood_pressure  insulin_test  \\\n",
       "count  20.000000   20.000000  20.000000       20.000000     20.000000   \n",
       "mean   34.750000  178.800000  34.480000       78.500000    145.050000   \n",
       "std    11.511436   27.935264   6.628773       14.005638     75.964309   \n",
       "min    19.000000  120.000000  25.800000       59.000000     50.000000   \n",
       "25%    26.250000  153.250000  30.250000       69.750000     76.250000   \n",
       "50%    34.500000  188.500000  33.150000       72.500000    137.000000   \n",
       "75%    44.250000  197.750000  37.600000       89.250000    167.750000   \n",
       "max    60.000000  216.000000  50.700000      108.000000    362.000000   \n",
       "\n",
       "       liver_stress_test  cardio_stress_test  years_smoking  zeta_disease  \n",
       "count          20.000000           20.000000      20.000000           0.0  \n",
       "mean            1.569600           61.950000       6.050000           NaN  \n",
       "std             0.230356            9.703363       3.471311           NaN  \n",
       "min             1.249800           43.000000       2.000000           NaN  \n",
       "25%             1.411800           55.750000       3.000000           NaN  \n",
       "50%             1.483300           60.000000       5.500000           NaN  \n",
       "75%             1.737800           68.000000       7.500000           NaN  \n",
       "max             2.050800           83.000000      13.000000           NaN  "
      ]
     },
     "execution_count": 95,
     "metadata": {},
     "output_type": "execute_result"
    }
   ],
   "source": [
    "test.describe()"
   ]
  },
  {
   "cell_type": "code",
   "execution_count": 97,
   "metadata": {},
   "outputs": [
    {
     "data": {
      "text/plain": [
       "age                    0\n",
       "weight                 0\n",
       "bmi                    0\n",
       "blood_pressure         0\n",
       "insulin_test           0\n",
       "liver_stress_test      0\n",
       "cardio_stress_test     0\n",
       "years_smoking          0\n",
       "zeta_disease          20\n",
       "dtype: int64"
      ]
     },
     "execution_count": 97,
     "metadata": {},
     "output_type": "execute_result"
    }
   ],
   "source": [
    "test.isna().sum()"
   ]
  },
  {
   "cell_type": "code",
   "execution_count": 105,
   "metadata": {},
   "outputs": [],
   "source": [
    "test.drop(['zeta_disease'],axis=1,inplace=True)"
   ]
  },
  {
   "cell_type": "markdown",
   "metadata": {},
   "source": [
    "### Predictions on test data"
   ]
  },
  {
   "cell_type": "markdown",
   "metadata": {},
   "source": [
    "We will choose Logistic Regression as it had  better score for both F1 score and Accuracy."
   ]
  },
  {
   "cell_type": "code",
   "execution_count": 106,
   "metadata": {},
   "outputs": [],
   "source": [
    "pred=lr.predict(test)"
   ]
  },
  {
   "cell_type": "code",
   "execution_count": 109,
   "metadata": {},
   "outputs": [],
   "source": [
    "test['zeta_disease']=pred"
   ]
  },
  {
   "cell_type": "code",
   "execution_count": 110,
   "metadata": {},
   "outputs": [
    {
     "data": {
      "text/html": [
       "<div>\n",
       "<style scoped>\n",
       "    .dataframe tbody tr th:only-of-type {\n",
       "        vertical-align: middle;\n",
       "    }\n",
       "\n",
       "    .dataframe tbody tr th {\n",
       "        vertical-align: top;\n",
       "    }\n",
       "\n",
       "    .dataframe thead th {\n",
       "        text-align: right;\n",
       "    }\n",
       "</style>\n",
       "<table border=\"1\" class=\"dataframe\">\n",
       "  <thead>\n",
       "    <tr style=\"text-align: right;\">\n",
       "      <th></th>\n",
       "      <th>age</th>\n",
       "      <th>weight</th>\n",
       "      <th>bmi</th>\n",
       "      <th>blood_pressure</th>\n",
       "      <th>insulin_test</th>\n",
       "      <th>liver_stress_test</th>\n",
       "      <th>cardio_stress_test</th>\n",
       "      <th>years_smoking</th>\n",
       "      <th>zeta_disease</th>\n",
       "    </tr>\n",
       "  </thead>\n",
       "  <tbody>\n",
       "    <tr>\n",
       "      <th>0</th>\n",
       "      <td>24</td>\n",
       "      <td>151</td>\n",
       "      <td>39.5</td>\n",
       "      <td>69</td>\n",
       "      <td>72</td>\n",
       "      <td>1.3968</td>\n",
       "      <td>56</td>\n",
       "      <td>4</td>\n",
       "      <td>1</td>\n",
       "    </tr>\n",
       "    <tr>\n",
       "      <th>1</th>\n",
       "      <td>27</td>\n",
       "      <td>179</td>\n",
       "      <td>35.5</td>\n",
       "      <td>89</td>\n",
       "      <td>156</td>\n",
       "      <td>1.6608</td>\n",
       "      <td>43</td>\n",
       "      <td>6</td>\n",
       "      <td>1</td>\n",
       "    </tr>\n",
       "    <tr>\n",
       "      <th>2</th>\n",
       "      <td>34</td>\n",
       "      <td>147</td>\n",
       "      <td>26.9</td>\n",
       "      <td>76</td>\n",
       "      <td>74</td>\n",
       "      <td>1.6958</td>\n",
       "      <td>53</td>\n",
       "      <td>2</td>\n",
       "      <td>0</td>\n",
       "    </tr>\n",
       "    <tr>\n",
       "      <th>3</th>\n",
       "      <td>35</td>\n",
       "      <td>206</td>\n",
       "      <td>32.4</td>\n",
       "      <td>73</td>\n",
       "      <td>127</td>\n",
       "      <td>1.4608</td>\n",
       "      <td>61</td>\n",
       "      <td>6</td>\n",
       "      <td>1</td>\n",
       "    </tr>\n",
       "    <tr>\n",
       "      <th>4</th>\n",
       "      <td>60</td>\n",
       "      <td>193</td>\n",
       "      <td>29.8</td>\n",
       "      <td>62</td>\n",
       "      <td>192</td>\n",
       "      <td>1.7798</td>\n",
       "      <td>65</td>\n",
       "      <td>9</td>\n",
       "      <td>1</td>\n",
       "    </tr>\n",
       "    <tr>\n",
       "      <th>5</th>\n",
       "      <td>45</td>\n",
       "      <td>120</td>\n",
       "      <td>36.5</td>\n",
       "      <td>108</td>\n",
       "      <td>50</td>\n",
       "      <td>1.2978</td>\n",
       "      <td>54</td>\n",
       "      <td>12</td>\n",
       "      <td>0</td>\n",
       "    </tr>\n",
       "    <tr>\n",
       "      <th>6</th>\n",
       "      <td>20</td>\n",
       "      <td>139</td>\n",
       "      <td>38.2</td>\n",
       "      <td>61</td>\n",
       "      <td>77</td>\n",
       "      <td>1.5818</td>\n",
       "      <td>68</td>\n",
       "      <td>3</td>\n",
       "      <td>0</td>\n",
       "    </tr>\n",
       "    <tr>\n",
       "      <th>7</th>\n",
       "      <td>23</td>\n",
       "      <td>137</td>\n",
       "      <td>31.2</td>\n",
       "      <td>70</td>\n",
       "      <td>73</td>\n",
       "      <td>1.4168</td>\n",
       "      <td>59</td>\n",
       "      <td>7</td>\n",
       "      <td>0</td>\n",
       "    </tr>\n",
       "    <tr>\n",
       "      <th>8</th>\n",
       "      <td>36</td>\n",
       "      <td>195</td>\n",
       "      <td>30.5</td>\n",
       "      <td>59</td>\n",
       "      <td>141</td>\n",
       "      <td>1.4498</td>\n",
       "      <td>59</td>\n",
       "      <td>6</td>\n",
       "      <td>1</td>\n",
       "    </tr>\n",
       "    <tr>\n",
       "      <th>9</th>\n",
       "      <td>19</td>\n",
       "      <td>193</td>\n",
       "      <td>25.8</td>\n",
       "      <td>84</td>\n",
       "      <td>66</td>\n",
       "      <td>1.7938</td>\n",
       "      <td>50</td>\n",
       "      <td>3</td>\n",
       "      <td>1</td>\n",
       "    </tr>\n",
       "    <tr>\n",
       "      <th>10</th>\n",
       "      <td>47</td>\n",
       "      <td>216</td>\n",
       "      <td>34.7</td>\n",
       "      <td>70</td>\n",
       "      <td>170</td>\n",
       "      <td>1.7238</td>\n",
       "      <td>58</td>\n",
       "      <td>7</td>\n",
       "      <td>1</td>\n",
       "    </tr>\n",
       "    <tr>\n",
       "      <th>11</th>\n",
       "      <td>40</td>\n",
       "      <td>200</td>\n",
       "      <td>30.4</td>\n",
       "      <td>69</td>\n",
       "      <td>128</td>\n",
       "      <td>1.3118</td>\n",
       "      <td>60</td>\n",
       "      <td>3</td>\n",
       "      <td>1</td>\n",
       "    </tr>\n",
       "    <tr>\n",
       "      <th>12</th>\n",
       "      <td>21</td>\n",
       "      <td>154</td>\n",
       "      <td>46.5</td>\n",
       "      <td>88</td>\n",
       "      <td>121</td>\n",
       "      <td>1.2498</td>\n",
       "      <td>68</td>\n",
       "      <td>4</td>\n",
       "      <td>1</td>\n",
       "    </tr>\n",
       "    <tr>\n",
       "      <th>13</th>\n",
       "      <td>52</td>\n",
       "      <td>196</td>\n",
       "      <td>31.3</td>\n",
       "      <td>90</td>\n",
       "      <td>167</td>\n",
       "      <td>1.9238</td>\n",
       "      <td>66</td>\n",
       "      <td>10</td>\n",
       "      <td>1</td>\n",
       "    </tr>\n",
       "    <tr>\n",
       "      <th>14</th>\n",
       "      <td>30</td>\n",
       "      <td>181</td>\n",
       "      <td>37.4</td>\n",
       "      <td>93</td>\n",
       "      <td>157</td>\n",
       "      <td>2.0508</td>\n",
       "      <td>80</td>\n",
       "      <td>5</td>\n",
       "      <td>1</td>\n",
       "    </tr>\n",
       "    <tr>\n",
       "      <th>15</th>\n",
       "      <td>46</td>\n",
       "      <td>213</td>\n",
       "      <td>26.5</td>\n",
       "      <td>70</td>\n",
       "      <td>133</td>\n",
       "      <td>1.4788</td>\n",
       "      <td>55</td>\n",
       "      <td>12</td>\n",
       "      <td>1</td>\n",
       "    </tr>\n",
       "    <tr>\n",
       "      <th>16</th>\n",
       "      <td>29</td>\n",
       "      <td>173</td>\n",
       "      <td>50.7</td>\n",
       "      <td>91</td>\n",
       "      <td>221</td>\n",
       "      <td>1.4878</td>\n",
       "      <td>83</td>\n",
       "      <td>3</td>\n",
       "      <td>1</td>\n",
       "    </tr>\n",
       "    <tr>\n",
       "      <th>17</th>\n",
       "      <td>36</td>\n",
       "      <td>202</td>\n",
       "      <td>42.8</td>\n",
       "      <td>72</td>\n",
       "      <td>273</td>\n",
       "      <td>1.8748</td>\n",
       "      <td>72</td>\n",
       "      <td>13</td>\n",
       "      <td>1</td>\n",
       "    </tr>\n",
       "    <tr>\n",
       "      <th>18</th>\n",
       "      <td>27</td>\n",
       "      <td>197</td>\n",
       "      <td>29.1</td>\n",
       "      <td>72</td>\n",
       "      <td>362</td>\n",
       "      <td>1.4298</td>\n",
       "      <td>69</td>\n",
       "      <td>4</td>\n",
       "      <td>1</td>\n",
       "    </tr>\n",
       "    <tr>\n",
       "      <th>19</th>\n",
       "      <td>44</td>\n",
       "      <td>184</td>\n",
       "      <td>33.9</td>\n",
       "      <td>104</td>\n",
       "      <td>141</td>\n",
       "      <td>1.3268</td>\n",
       "      <td>60</td>\n",
       "      <td>2</td>\n",
       "      <td>1</td>\n",
       "    </tr>\n",
       "  </tbody>\n",
       "</table>\n",
       "</div>"
      ],
      "text/plain": [
       "    age  weight   bmi  blood_pressure  insulin_test  liver_stress_test  \\\n",
       "0    24     151  39.5              69            72             1.3968   \n",
       "1    27     179  35.5              89           156             1.6608   \n",
       "2    34     147  26.9              76            74             1.6958   \n",
       "3    35     206  32.4              73           127             1.4608   \n",
       "4    60     193  29.8              62           192             1.7798   \n",
       "5    45     120  36.5             108            50             1.2978   \n",
       "6    20     139  38.2              61            77             1.5818   \n",
       "7    23     137  31.2              70            73             1.4168   \n",
       "8    36     195  30.5              59           141             1.4498   \n",
       "9    19     193  25.8              84            66             1.7938   \n",
       "10   47     216  34.7              70           170             1.7238   \n",
       "11   40     200  30.4              69           128             1.3118   \n",
       "12   21     154  46.5              88           121             1.2498   \n",
       "13   52     196  31.3              90           167             1.9238   \n",
       "14   30     181  37.4              93           157             2.0508   \n",
       "15   46     213  26.5              70           133             1.4788   \n",
       "16   29     173  50.7              91           221             1.4878   \n",
       "17   36     202  42.8              72           273             1.8748   \n",
       "18   27     197  29.1              72           362             1.4298   \n",
       "19   44     184  33.9             104           141             1.3268   \n",
       "\n",
       "    cardio_stress_test  years_smoking  zeta_disease  \n",
       "0                   56              4             1  \n",
       "1                   43              6             1  \n",
       "2                   53              2             0  \n",
       "3                   61              6             1  \n",
       "4                   65              9             1  \n",
       "5                   54             12             0  \n",
       "6                   68              3             0  \n",
       "7                   59              7             0  \n",
       "8                   59              6             1  \n",
       "9                   50              3             1  \n",
       "10                  58              7             1  \n",
       "11                  60              3             1  \n",
       "12                  68              4             1  \n",
       "13                  66             10             1  \n",
       "14                  80              5             1  \n",
       "15                  55             12             1  \n",
       "16                  83              3             1  \n",
       "17                  72             13             1  \n",
       "18                  69              4             1  \n",
       "19                  60              2             1  "
      ]
     },
     "execution_count": 110,
     "metadata": {},
     "output_type": "execute_result"
    }
   ],
   "source": [
    "test"
   ]
  }
 ],
 "metadata": {
  "kernelspec": {
   "display_name": "Python 3",
   "language": "python",
   "name": "python3"
  },
  "language_info": {
   "codemirror_mode": {
    "name": "ipython",
    "version": 3
   },
   "file_extension": ".py",
   "mimetype": "text/x-python",
   "name": "python",
   "nbconvert_exporter": "python",
   "pygments_lexer": "ipython3",
   "version": "3.6.4"
  }
 },
 "nbformat": 4,
 "nbformat_minor": 2
}
